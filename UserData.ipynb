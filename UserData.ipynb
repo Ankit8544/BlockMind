{
 "cells": [
  {
   "cell_type": "code",
   "execution_count": 1,
   "id": "a4ae298a",
   "metadata": {},
   "outputs": [],
   "source": [
    "import requests\n",
    "import pandas as pd\n",
    "import requests\n",
    "import json\n",
    "from datetime import datetime\n",
    "import pytz"
   ]
  },
  {
   "cell_type": "code",
   "execution_count": 2,
   "id": "27c2983e",
   "metadata": {},
   "outputs": [],
   "source": [
    "# Azure App credentials\n",
    "client_id = \"183f41fa-e4bc-4ed0-b384-fc87fc1ca4ab\"\n",
    "client_secret = \"0n-8Q~TaxuV81dY5QwJdsNksuvRKyQEwOgBRGb8c\"\n",
    "tenant_id = \"5eafb13a-8bcd-462a-9e16-58810b6f2460\"\n",
    "scope = \"https://graph.microsoft.com/.default\""
   ]
  },
  {
   "cell_type": "code",
   "execution_count": 3,
   "id": "47b015f0",
   "metadata": {},
   "outputs": [],
   "source": [
    "# Token endpoint\n",
    "token_url = f\"https://login.microsoftonline.com/{tenant_id}/oauth2/v2.0/token\"\n",
    "\n",
    "# Request access token\n",
    "token_data = {\n",
    "    'grant_type': 'client_credentials',\n",
    "    'client_id': client_id,\n",
    "    'client_secret': client_secret,\n",
    "    'scope': scope\n",
    "}\n",
    "\n",
    "token_response = requests.post(token_url, data=token_data)\n",
    "access_token = token_response.json().get(\"access_token\")\n",
    "\n",
    "if not access_token:\n",
    "    print(\"Failed to get access token.\")\n",
    "    print(token_response.json())\n",
    "    exit()"
   ]
  },
  {
   "cell_type": "code",
   "execution_count": 4,
   "id": "258cd28a",
   "metadata": {},
   "outputs": [],
   "source": [
    "# URL for GET request to view stored user data\n",
    "url = 'https://userprofile-ezcl.onrender.com/api/view_data'\n",
    "\n",
    "# Send GET request\n",
    "response = requests.get(url)\n",
    "response = json.loads(response.text)\n",
    "\n",
    "# Original response\n",
    "res = response[-1]\n",
    "\n",
    "# Parse the timestamp\n",
    "utc_time = datetime.strptime(res['timestamp'][:26], \"%Y-%m-%dT%H:%M:%S.%f\")\n",
    "utc_time = utc_time.replace(tzinfo=pytz.UTC)\n",
    "\n",
    "# Convert to IST\n",
    "ist = pytz.timezone('Asia/Kolkata')\n",
    "ist_time = utc_time.astimezone(ist)\n",
    "\n",
    "latest_user = {\n",
    "    \"user_email\": res['user_email'],\n",
    "    \"timestamp\": ist_time.strftime(\"%Y-%m-%d %H:%M:%S\")\n",
    "}"
   ]
  },
  {
   "cell_type": "code",
   "execution_count": 5,
   "id": "e5b86bfd",
   "metadata": {},
   "outputs": [
    {
     "data": {
      "text/plain": [
       "{'@odata.context': 'https://graph.microsoft.com/v1.0/$metadata#users/$entity',\n",
       " 'businessPhones': ['9798733872'],\n",
       " 'displayName': 'Ankit Kumar',\n",
       " 'givenName': 'Ankit',\n",
       " 'jobTitle': 'Data Scientist',\n",
       " 'mail': 'ankitkumar875740@gmail.com',\n",
       " 'mobilePhone': '9798733872',\n",
       " 'officeLocation': None,\n",
       " 'preferredLanguage': 'en-US',\n",
       " 'surname': 'Kumar',\n",
       " 'userPrincipalName': 'AnkitKumar@ankit8544.onmicrosoft.com',\n",
       " 'id': '294dba8e-a69e-408d-a3ce-50fbfe042615'}"
      ]
     },
     "metadata": {},
     "output_type": "display_data"
    }
   ],
   "source": [
    "# Microsoft Graph API endpoint (example: list users)\n",
    "graph_endpoint = f\"https://graph.microsoft.com/v1.0/users/{latest_user['user_email']}\"\n",
    "\n",
    "# Set headers with access token\n",
    "headers = {\n",
    "    'Authorization': f'Bearer {access_token}'\n",
    "}\n",
    "\n",
    "# Make the API call\n",
    "response = requests.get(graph_endpoint, headers=headers)\n",
    "\n",
    "# Parse response\n",
    "if response.status_code == 200:\n",
    "    data = response.json().get(\"value\", [])\n",
    "    df = pd.DataFrame(data)\n",
    "    display(response.json())\n",
    "else:\n",
    "    print(\"Failed to fetch data:\", response.status_code)\n",
    "    print(response.text)"
   ]
  },
  {
   "cell_type": "code",
   "execution_count": null,
   "id": "9207486a",
   "metadata": {},
   "outputs": [
    {
     "data": {
      "text/plain": [
       "'294dba8e-a69e-408d-a3ce-50fbfe042615'"
      ]
     },
     "execution_count": 8,
     "metadata": {},
     "output_type": "execute_result"
    }
   ],
   "source": []
  },
  {
   "cell_type": "code",
   "execution_count": 9,
   "id": "db0380e5",
   "metadata": {},
   "outputs": [],
   "source": [
    "import requests\n",
    "\n",
    "url = f\"https://graph.microsoft.com/v1.0/users/{response.json()['id']}/photo/$value\"\n",
    "headers = {\n",
    "    \"Authorization\": f\"Bearer {access_token}\"\n",
    "}\n",
    "\n",
    "response = requests.get(url, headers=headers)\n",
    "\n",
    "if response.status_code == 200:\n",
    "    with open(\"profile_image.jpg\", \"wb\") as f:\n",
    "        f.write(response.content)\n"
   ]
  },
  {
   "cell_type": "code",
   "execution_count": null,
   "id": "61bba0e9",
   "metadata": {},
   "outputs": [],
   "source": []
  },
  {
   "cell_type": "code",
   "execution_count": null,
   "id": "7ca0b3bd",
   "metadata": {},
   "outputs": [],
   "source": []
  },
  {
   "cell_type": "code",
   "execution_count": null,
   "id": "12b0616d",
   "metadata": {},
   "outputs": [],
   "source": []
  }
 ],
 "metadata": {
  "kernelspec": {
   "display_name": "Python 3",
   "language": "python",
   "name": "python3"
  },
  "language_info": {
   "codemirror_mode": {
    "name": "ipython",
    "version": 3
   },
   "file_extension": ".py",
   "mimetype": "text/x-python",
   "name": "python",
   "nbconvert_exporter": "python",
   "pygments_lexer": "ipython3",
   "version": "3.12.2"
  }
 },
 "nbformat": 4,
 "nbformat_minor": 5
}
